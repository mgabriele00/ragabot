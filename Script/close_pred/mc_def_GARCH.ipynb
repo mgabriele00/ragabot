{
 "cells": [
  {
   "cell_type": "code",
   "execution_count": 77,
   "metadata": {},
   "outputs": [],
   "source": [
    "import pandas as pd\n",
    "import numpy as np\n",
    "import talib\n",
    "from numba import njit\n",
    "from sklearn.metrics import classification_report"
   ]
  },
  {
   "cell_type": "code",
   "execution_count": 78,
   "metadata": {},
   "outputs": [],
   "source": [
    "# === 3. Simulatore Monte Carlo ===\n",
    "@njit(fastmath=True)\n",
    "def simulate_close_numba(current_price, sigma, n_sim, dt=1.0, mu=0.0):\n",
    "    Z = np.random.randn(n_sim)\n",
    "    log_ret = (mu - 0.5 * sigma**2) * dt + sigma * np.sqrt(dt) * Z\n",
    "    return current_price * np.exp(log_ret)\n"
   ]
  },
  {
   "cell_type": "code",
   "execution_count": 79,
   "metadata": {},
   "outputs": [],
   "source": [
    "tp_mult = 20\n",
    "sl_mult = 0.1\n",
    "lookahead = 10\n",
    "window_sigma = 100\n",
    "n_sim = 10000\n",
    "manual_thr = 0.7\n",
    "n_rows = 100"
   ]
  },
  {
   "cell_type": "code",
   "execution_count": 81,
   "metadata": {},
   "outputs": [],
   "source": [
    "# === 1. Caricamento dati ===\n",
    "df = pd.read_csv(\"Script/close_pred/data/EURUSD_M1_2013_2024.csv\")\n",
    "df[\"datetime\"] = pd.to_datetime(df[\"Date\"] + \" \" + df[\"Time\"], format=\"%Y.%m.%d %H:%M\", errors=\"coerce\")\n",
    "df = df.sort_values(\"datetime\").drop(columns=[\"Date\", \"Time\"])\n",
    "df = df.rename(columns={\"Open\":\"open\", \"High\":\"high\", \"Low\":\"low\", \"Close\":\"close\", \"Volume\":\"volume\"})"
   ]
  },
  {
   "cell_type": "code",
   "execution_count": 82,
   "metadata": {},
   "outputs": [],
   "source": [
    "# === 2. Indicatori ===\n",
    "df[\"atr\"] = talib.ATR(df[\"high\"], df[\"low\"], df[\"close\"], timeperiod=14)\n",
    "df[\"log_ret\"] = np.log(df[\"close\"] / df[\"close\"].shift(1))\n",
    "df[\"sigma\"] = df[\"log_ret\"].rolling(window_sigma).std()\n",
    "df[\"tp\"] = df[\"close\"] + df[\"atr\"] * tp_mult\n",
    "df[\"sl\"] = df[\"close\"] - df[\"atr\"] * sl_mult\n",
    "df = df.dropna().reset_index(drop=True)"
   ]
  },
  {
   "cell_type": "code",
   "execution_count": 83,
   "metadata": {},
   "outputs": [],
   "source": [
    "# === 4. Esplosione + Simulazioni ===\n",
    "N = len(df)\n",
    "close_arr = df[\"close\"].astype(np.float64).values\n",
    "tp_arr = df[\"tp\"].astype(np.float64).values\n",
    "sl_arr = df[\"sl\"].astype(np.float64).values\n",
    "sigma_arr = df[\"sigma\"].astype(np.float64).values\n",
    "high_arr = df[\"high\"].astype(np.float64).values\n",
    "low_arr = df[\"low\"].astype(np.float64).values\n",
    "dates = df[\"datetime\"].values\n",
    "\n",
    "exploded = []"
   ]
  },
  {
   "cell_type": "code",
   "execution_count": 84,
   "metadata": {},
   "outputs": [],
   "source": [
    "for t in range(N - lookahead - 1):\n",
    "    base_dt = dates[t]\n",
    "    base_tp = tp_arr[t]\n",
    "    base_sl = sl_arr[t]\n",
    "\n",
    "    for offset in range(1, lookahead + 1):\n",
    "        i = t + offset\n",
    "        if i + 1 >= N:\n",
    "            break\n",
    "\n",
    "        simulation_price = close_arr[i]      # uso il prezzo a i per simulare il movimento\n",
    "        sigma = sigma_arr[i]\n",
    "        if np.isnan(simulation_price) or np.isnan(sigma):\n",
    "            continue\n",
    "\n",
    "        # ✅ Simula da close[i] → prevede i+1\n",
    "        sims = simulate_close_numba(simulation_price, sigma, n_sim)\n",
    "\n",
    "        # ✅ Verifica su future_close[i+1], confrontato con TP/SL calcolati alla barra t\n",
    "        future_close = close_arr[i + 1]\n",
    "        outcome = 1 if future_close >= base_tp else (-1 if future_close <= base_sl else 0)\n",
    "\n",
    "        # Predizione sulla barra simulata\n",
    "        prob_tp = np.mean(sims >= base_tp)\n",
    "        prob_sl = np.mean(sims <= base_sl)\n",
    "        if prob_tp >= manual_thr:\n",
    "            pred = 1\n",
    "        elif prob_sl >= manual_thr:\n",
    "            pred = -1\n",
    "        else:\n",
    "            pred = 0\n",
    "\n",
    "        exploded.append({\n",
    "            \"base_datetime\": base_dt,\n",
    "            \"future_datetime\": dates[i],\n",
    "            \"offset\": offset,\n",
    "            \"tp\": base_tp,\n",
    "            \"sl\": base_sl,\n",
    "            \"future_close\": future_close,\n",
    "            \"prob_tp\": prob_tp,\n",
    "            \"prob_sl\": prob_sl,\n",
    "            \"pred\": pred,\n",
    "            \"outcome\": outcome\n",
    "        })\n",
    "\n"
   ]
  },
  {
   "cell_type": "code",
   "execution_count": 85,
   "metadata": {},
   "outputs": [
    {
     "name": "stdout",
     "output_type": "stream",
     "text": [
      "\n",
      "🎯 CLASSIFICATION REPORT (Monte Carlo su 100 barre):\n",
      "\n",
      "              precision    recall  f1-score   support\n",
      "\n",
      "      SL_hit       0.93      0.67      0.78   1735445\n",
      "      No_hit       0.77      0.95      0.85   1968545\n",
      "      TP_hit       0.88      0.60      0.71      1010\n",
      "\n",
      "    accuracy                           0.82   3705000\n",
      "   macro avg       0.86      0.74      0.78   3705000\n",
      "weighted avg       0.84      0.82      0.82   3705000\n",
      "\n"
     ]
    }
   ],
   "source": [
    "# === 5. Report ===\n",
    "df_ex = pd.DataFrame(exploded)\n",
    "print(\"\\n🎯 CLASSIFICATION REPORT (Monte Carlo su 100 barre):\\n\")\n",
    "print(classification_report(df_ex[\"outcome\"], df_ex[\"pred\"], labels=[-1,0,1], target_names=[\"SL_hit\",\"No_hit\",\"TP_hit\"]))"
   ]
  },
  {
   "cell_type": "code",
   "execution_count": 86,
   "metadata": {},
   "outputs": [
    {
     "data": {
      "image/png": "[encoded data removed]",
      "text/plain": [
       "<Figure size 1200x500 with 2 Axes>"
      ]
     },
     "metadata": {},
     "output_type": "display_data"
    }
   ],
   "source": [
    "import numpy as np\n",
    "import matplotlib.pyplot as plt\n",
    "from sklearn.metrics import precision_recall_curve\n",
    "\n",
    "# === Costruzione array target e probabilità ===\n",
    "df_exploded = pd.DataFrame(exploded)\n",
    "y_true = df_exploded[\"outcome\"].to_numpy()\n",
    "\n",
    "# Target binari separati\n",
    "y_true_tp = (y_true == 1).astype(int)\n",
    "y_true_sl = (y_true == -1).astype(int)\n",
    "\n",
    "# Probabilità\n",
    "prob_tp = df_exploded[\"prob_tp\"].to_numpy()\n",
    "prob_sl = df_exploded[\"prob_sl\"].to_numpy()\n",
    "\n",
    "# === Calcolo precision-recall per TP ===\n",
    "prec_tp, rec_tp, thr_tp = precision_recall_curve(y_true_tp, prob_tp)\n",
    "f1_tp = 2 * (prec_tp[:-1] * rec_tp[:-1]) / (prec_tp[:-1] + rec_tp[:-1] + 1e-9)\n",
    "\n",
    "# === Calcolo precision-recall per SL ===\n",
    "prec_sl, rec_sl, thr_sl = precision_recall_curve(y_true_sl, prob_sl)\n",
    "f1_sl = 2 * (prec_sl[:-1] * rec_sl[:-1]) / (prec_sl[:-1] + rec_sl[:-1] + 1e-9)\n",
    "\n",
    "# === Plot dei due grafici ===\n",
    "fig, (ax1, ax2) = plt.subplots(1, 2, figsize=(12, 5))\n",
    "\n",
    "# Grafico TP\n",
    "ax1.plot(thr_tp, f1_tp, color='blue')\n",
    "ax1.set_title(\"F1-score vs soglia TP\")\n",
    "ax1.set_xlabel(\"Threshold TP\")\n",
    "ax1.set_ylabel(\"F1-score\")\n",
    "ax1.grid(True)\n",
    "\n",
    "# Grafico SL\n",
    "ax2.plot(thr_sl, f1_sl, color='orange')\n",
    "ax2.set_title(\"F1-score vs soglia SL\")\n",
    "ax2.set_xlabel(\"Threshold SL\")\n",
    "ax2.set_ylabel(\"F1-score\")\n",
    "ax2.grid(True)\n",
    "\n",
    "plt.tight_layout()\n",
    "plt.show()\n"
   ]
  },
  {
   "cell_type": "code",
   "execution_count": 90,
   "metadata": {},
   "outputs": [
    {
     "name": "stdout",
     "output_type": "stream",
     "text": [
      "\n",
      "🎯 CLASSIFICATION REPORT con soglie fisse TP=0.5561, SL=0.4737:\n",
      "\n",
      "              precision    recall  f1-score   support\n",
      "\n",
      "      SL_hit       0.84      0.86      0.85   1735445\n",
      "      No_hit       0.87      0.85      0.86   1968545\n",
      "      TP_hit       0.84      0.63      0.72      1010\n",
      "\n",
      "    accuracy                           0.86   3705000\n",
      "   macro avg       0.85      0.78      0.81   3705000\n",
      "weighted avg       0.86      0.86      0.86   3705000\n",
      "\n"
     ]
    }
   ],
   "source": [
    "from sklearn.metrics import classification_report\n",
    "\n",
    "\n",
    "manual_thr_tp = 0.5561\n",
    "manual_thr_sl = 0.4737\n",
    "y_pred = np.zeros_like(y_true)\n",
    "y_pred[prob_tp >= manual_thr_tp] = 1\n",
    "mask_sl = (y_pred == 0) & (prob_sl >= manual_thr_sl)\n",
    "y_pred[mask_sl] = -1\n",
    "\n",
    "print(f\"\\n🎯 CLASSIFICATION REPORT con soglie fisse TP={manual_thr_tp}, SL={manual_thr_sl}:\\n\")\n",
    "print(classification_report(\n",
    "    y_true,\n",
    "    y_pred,\n",
    "    labels=[-1, 0, 1],\n",
    "    target_names=[\"SL_hit\", \"No_hit\", \"TP_hit\"]\n",
    "))\n"
   ]
  },
  {
   "cell_type": "code",
   "execution_count": 89,
   "metadata": {},
   "outputs": [
    {
     "name": "stdout",
     "output_type": "stream",
     "text": [
      "✅ Soglia ottimale TP: 0.5561 (F1 = 0.7169)\n",
      "✅ Soglia ottimale SL: 0.4737 (F1 = 0.8496)\n"
     ]
    }
   ],
   "source": [
    "# === Migliori soglie basate su F1 ===\n",
    "best_idx_tp = np.argmax(f1_tp)\n",
    "best_thr_tp = thr_tp[best_idx_tp]\n",
    "\n",
    "best_idx_sl = np.argmax(f1_sl)\n",
    "best_thr_sl = thr_sl[best_idx_sl]\n",
    "\n",
    "print(f\"✅ Soglia ottimale TP: {best_thr_tp:.4f} (F1 = {f1_tp[best_idx_tp]:.4f})\")\n",
    "print(f\"✅ Soglia ottimale SL: {best_thr_sl:.4f} (F1 = {f1_sl[best_idx_sl]:.4f})\")\n"
   ]
  }
 ],
 "metadata": {
  "interpreter": {
   "hash": "7636801c712b6293a9379678dc47f8b399efb99f7dbc7cb979ae9408ebaa50ed"
  },
  "kernelspec": {
   "display_name": "Python 3.12.9 ('ragabot')",
   "language": "python",
   "name": "python3"
  },
  "language_info": {
   "codemirror_mode": {
    "name": "ipython",
    "version": 3
   },
   "file_extension": ".py",
   "mimetype": "text/x-python",
   "name": "python",
   "nbconvert_exporter": "python",
   "pygments_lexer": "ipython3",
   "version": "3.12.10"
  },
  "orig_nbformat": 4
 },
 "nbformat": 4,
 "nbformat_minor": 2
}
